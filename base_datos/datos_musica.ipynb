{
 "cells": [
  {
   "cell_type": "code",
   "execution_count": null,
   "id": "cae6cc3f-9c6f-49be-a806-169d44945ab0",
   "metadata": {},
   "outputs": [],
   "source": [
    "# Importar la librería pandas\n",
    "import pandas as pd\n",
    "import os\n",
    "\n",
    "# Crear una lista con los nombres de los archivos CSV\n",
    "csv_files = ['archivo1.csv', 'archivo2.csv', 'archivo3.csv']\n",
    "\n",
    "# Inicializar una lista vacía para almacenar los DataFrames\n",
    "dataframes = []\n",
    "\n",
    "# Leer cada archivo CSV y añadir el DataFrame a la lista\n",
    "for file in csv_files:\n",
    "    df = pd.read_csv(file)\n",
    "    dataframes.append(df)\n",
    "\n",
    "# Unir todos los DataFrames en uno solo\n",
    "combined_df = pd.concat(dataframes, ignore_index=True)\n",
    "\n",
    "# Mostrar las primeras filas del DataFrame combinado\n",
    "print(combined_df.head())\n",
    "\n",
    "# Guardar el DataFrame combinado en un nuevo archivo CSV\n",
    "combined_df.to_csv('archivo_combinado.csv', index=False)\n"
   ]
  },
  {
   "cell_type": "code",
   "execution_count": 5,
   "id": "8ef377f2-609c-4ce7-96ee-7f901a6598a3",
   "metadata": {},
   "outputs": [
    {
     "name": "stdout",
     "output_type": "stream",
     "text": [
      "Empty DataFrame\n",
      "Columns: [nombre, artista, posicion, fecha_subida, fecha_lanzamiento, reproducciones, titulo, canal, fecha_publicacion, vistas]\n",
      "Index: []\n",
      "Se ha creado el archivo basedatosmusica\\basedatosmusicatop.csv\n"
     ]
    }
   ],
   "source": [
    "import pandas as pd\n",
    "import os\n",
    "\n",
    "# Lista con los nombres de los archivos CSV\n",
    "csv_files = [\n",
    "    'top_canciones_Alemania.csv', 'top_canciones_Argentina.csv',\n",
    "    'top_canciones_Australia.csv', 'top_canciones_Brasil.csv',\n",
    "    'top_canciones_Canadá.csv', 'top_canciones_Chile.csv',\n",
    "    'top_canciones_Colombia.csv', 'top_canciones_Corea_del_Sur.csv',\n",
    "    'top_canciones_Ecuador.csv', 'top_canciones_España.csv',\n",
    "    'top_canciones_Estados_Unidos.csv', 'top_canciones_Francia.csv',\n",
    "    'top_canciones_India.csv', 'top_canciones_Japón.csv',\n",
    "    'top_canciones_México.csv', 'top_canciones_Perú.csv',\n",
    "    'top_canciones_Puerto_Rico.csv', 'top_canciones_Reino_Unido.csv',\n",
    "    'top_canciones_Uruguay.csv', 'top_canciones_Venezuela.csv',\n",
    "    'top_tendencias_Alemania.csv', 'top_tendencias_Argentina.csv',\n",
    "    'top_tendencias_Australia.csv', 'top_tendencias_Brasil.csv',\n",
    "    'top_tendencias_Canadá.csv', 'top_tendencias_Chile.csv',\n",
    "    'top_tendencias_Colombia.csv', 'top_tendencias_Corea_del_Sur.csv',\n",
    "    'top_tendencias_Ecuador.csv', 'top_tendencias_España.csv',\n",
    "    'top_tendencias_Estados_Unidos.csv', 'top_tendencias_Francia.csv',\n",
    "    'top_tendencias_India.csv', 'top_tendencias_Japón.csv',\n",
    "    'top_tendencias_México.csv', 'top_tendencias_Perú.csv',\n",
    "    'top_tendencias_Puerto_Rico.csv', 'top_tendencias_Reino_Unido.csv',\n",
    "    'top_tendencias_Uruguay.csv', 'top_tendencias_Venezuela.csv'\n",
    "]\n",
    "\n",
    "# Inicializar una lista vacía para almacenar los DataFrames\n",
    "dataframes = []\n",
    "\n",
    "# Leer cada archivo CSV y añadir el DataFrame a la lista\n",
    "for file in csv_files:\n",
    "    df = pd.read_csv(file)\n",
    "    dataframes.append(df)\n",
    "\n",
    "# Unir todos los DataFrames en uno solo\n",
    "combined_df = pd.concat(dataframes, ignore_index=True)\n",
    "\n",
    "# Eliminar datos perdidos (valores nulos)\n",
    "combined_df = combined_df.dropna()\n",
    "\n",
    "# Mostrar las primeras filas del DataFrame combinado después de eliminar datos perdidos\n",
    "print(combined_df.head())\n",
    "\n",
    "# Nombre del archivo y carpeta para guardar\n",
    "output_folder = 'basedatosmusica'\n",
    "output_file = 'basedatosmusicatop.csv'\n",
    "\n",
    "# Crear la carpeta si no existe\n",
    "if not os.path.exists(output_folder):\n",
    "    os.makedirs(output_folder)\n",
    "\n",
    "# Guardar el DataFrame combinado limpio en un nuevo archivo CSV dentro de la carpeta\n",
    "output_path = os.path.join(output_folder, output_file)\n",
    "combined_df.to_csv(output_path, index=False)\n",
    "\n",
    "print(f'Se ha creado el archivo {output_path}')\n"
   ]
  },
  {
   "cell_type": "code",
   "execution_count": 6,
   "id": "e2b7038d-848d-44ed-a9f7-0400c5107563",
   "metadata": {},
   "outputs": [
    {
     "name": "stdout",
     "output_type": "stream",
     "text": [
      "Se ha creado el archivo basedatosmusicatop.csv\n"
     ]
    }
   ],
   "source": [
    "import pandas as pd\n",
    "import os\n",
    "\n",
    "# Lista con los nombres de los archivos CSV\n",
    "csv_files = [\n",
    "    'top_canciones_Alemania.csv', 'top_canciones_Argentina.csv',\n",
    "    'top_canciones_Australia.csv', 'top_canciones_Brasil.csv',\n",
    "    'top_canciones_Canadá.csv', 'top_canciones_Chile.csv',\n",
    "    'top_canciones_Colombia.csv', 'top_canciones_Corea_del_Sur.csv',\n",
    "    'top_canciones_Ecuador.csv', 'top_canciones_España.csv',\n",
    "    'top_canciones_Estados_Unidos.csv', 'top_canciones_Francia.csv',\n",
    "    'top_canciones_India.csv', 'top_canciones_Japón.csv',\n",
    "    'top_canciones_México.csv', 'top_canciones_Perú.csv',\n",
    "    'top_canciones_Puerto_Rico.csv', 'top_canciones_Reino_Unido.csv',\n",
    "    'top_canciones_Uruguay.csv', 'top_canciones_Venezuela.csv',\n",
    "    'top_tendencias_Alemania.csv', 'top_tendencias_Argentina.csv',\n",
    "    'top_tendencias_Australia.csv', 'top_tendencias_Brasil.csv',\n",
    "    'top_tendencias_Canadá.csv', 'top_tendencias_Chile.csv',\n",
    "    'top_tendencias_Colombia.csv', 'top_tendencias_Corea_del_Sur.csv',\n",
    "    'top_tendencias_Ecuador.csv', 'top_tendencias_España.csv',\n",
    "    'top_tendencias_Estados_Unidos.csv', 'top_tendencias_Francia.csv',\n",
    "    'top_tendencias_India.csv', 'top_tendencias_Japón.csv',\n",
    "    'top_tendencias_México.csv', 'top_tendencias_Perú.csv',\n",
    "    'top_tendencias_Puerto_Rico.csv', 'top_tendencias_Reino_Unido.csv',\n",
    "    'top_tendencias_Uruguay.csv', 'top_tendencias_Venezuela.csv'\n",
    "]\n",
    "\n",
    "# Inicializar una lista vacía para almacenar los DataFrames\n",
    "dataframes = []\n",
    "\n",
    "# Leer cada archivo CSV y añadir el DataFrame a la lista\n",
    "for file in csv_files:\n",
    "    df = pd.read_csv(file)\n",
    "    dataframes.append(df)\n",
    "\n",
    "# Unir todos los DataFrames en uno solo\n",
    "combined_df = pd.concat(dataframes, ignore_index=True)\n",
    "\n",
    "# Guardar el DataFrame combinado en un archivo CSV\n",
    "output_file = 'basedatosmusicatop.csv'\n",
    "combined_df.to_csv(output_file, index=False)\n",
    "\n",
    "print(f'Se ha creado el archivo {output_file}')\n"
   ]
  },
  {
   "cell_type": "code",
   "execution_count": 7,
   "id": "b1e64cf7-a3d3-435b-bf91-7d1250b6b0c1",
   "metadata": {},
   "outputs": [
    {
     "name": "stdout",
     "output_type": "stream",
     "text": [
      "                      nombre    artista  posicion fecha_subida  \\\n",
      "0                     Panama     GReeeN         1   2024-07-10   \n",
      "1  ZEIT, DASS SICH WAS DREHT  $OHO BANI         2   2024-07-10   \n",
      "2                      VEMPA     FOURTY         3   2024-07-10   \n",
      "3                     Wunder     AYLIVA         4   2024-07-10   \n",
      "4                 Mittelmeer   Pashanim         5   2024-07-10   \n",
      "\n",
      "  fecha_lanzamiento  reproducciones titulo canal fecha_publicacion  vistas  \n",
      "0        2023-04-27            77.0    NaN   NaN               NaN     NaN  \n",
      "1        2024-02-23            80.0    NaN   NaN               NaN     NaN  \n",
      "2        2024-04-19            78.0    NaN   NaN               NaN     NaN  \n",
      "3        2024-04-26            80.0    NaN   NaN               NaN     NaN  \n",
      "4        2024-06-13            70.0    NaN   NaN               NaN     NaN  \n"
     ]
    }
   ],
   "source": [
    "import pandas as pd\n",
    "\n",
    "# Cargar el archivo basedatosmusicatop.csv en un DataFrame\n",
    "file_path = 'basedatosmusicatop.csv'\n",
    "df = pd.read_csv(file_path)\n",
    "\n",
    "# Mostrar las primeras filas del DataFrame para verificar\n",
    "print(df.head())\n",
    "\n",
    "# Además, puedes ordenar el DataFrame por alguna columna específica, por ejemplo:\n",
    "# df_sorted = df.sort_values(by='nombre_columna')\n",
    "\n",
    "# Si quieres trabajar con el DataFrame de manera interactiva, puedes explorar sus columnas así:\n",
    "# print(df.columns)\n",
    "\n",
    "# Otra opción es ver una descripción rápida de los datos para entender mejor su estructura:\n",
    "# print(df.info())\n"
   ]
  },
  {
   "cell_type": "code",
   "execution_count": null,
   "id": "c5a8b840-bc70-41f1-95af-bcb3825ec813",
   "metadata": {},
   "outputs": [],
   "source": []
  }
 ],
 "metadata": {
  "kernelspec": {
   "display_name": "Python 3 (ipykernel)",
   "language": "python",
   "name": "python3"
  },
  "language_info": {
   "codemirror_mode": {
    "name": "ipython",
    "version": 3
   },
   "file_extension": ".py",
   "mimetype": "text/x-python",
   "name": "python",
   "nbconvert_exporter": "python",
   "pygments_lexer": "ipython3",
   "version": "3.11.7"
  }
 },
 "nbformat": 4,
 "nbformat_minor": 5
}
