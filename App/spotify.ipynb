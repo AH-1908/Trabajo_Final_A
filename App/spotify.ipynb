{
 "cells": [
  {
   "cell_type": "code",
   "execution_count": 1,
   "metadata": {},
   "outputs": [],
   "source": [
    "import requests\n",
    "import json\n",
    "import base64\n",
    "\n",
    "def get_token(client_id, client_secret):\n",
    "    auth_str = client_id + \":\" + client_secret\n",
    "    auth_bytes = auth_str.encode(\"utf-8\")\n",
    "\n",
    "    auth_base64 = str(base64.b64encode(auth_bytes), \"utf-8\")\n",
    "    url = \"https://accounts.spotify.com/api/token\"\n",
    "    headers = {\n",
    "        \"Authorization\": \"Basic \" + auth_base64,\n",
    "        \"Content-Type\": \"application/x-www-form-urlencoded\"\n",
    "    }\n",
    "    data = {\"grant_type\": \"client_credentials\"}\n",
    "    result = requests.post(url=url, headers=headers, data=data)\n",
    "    json_result = json.loads(result.content)\n",
    "    return json_result['access_token']"
   ]
  },
  {
   "cell_type": "code",
   "execution_count": 2,
   "metadata": {},
   "outputs": [],
   "source": [
    "def search_for_artist(token, artist_name):\n",
    "    url = \"https://api.spotify.com/v1/search\"\n",
    "    headers = {\n",
    "        \"Authorization\": \"Bearer \" + token,\n",
    "        \"Content-Type\": \"application/json\"\n",
    "    }\n",
    "    query = {'q': artist_name, 'type': 'artist', 'limit': 1}\n",
    "    result = requests.get(url, headers=headers, params=query)\n",
    "    json_result = result.json()\n",
    "    return json_result"
   ]
  },
  {
   "cell_type": "code",
   "execution_count": 3,
   "metadata": {},
   "outputs": [
    {
     "name": "stdout",
     "output_type": "stream",
     "text": [
      "{'artists': {'href': 'https://api.spotify.com/v1/search?query=Maluma&type=artist&offset=0&limit=1', 'items': [{'external_urls': {'spotify': 'https://open.spotify.com/artist/1r4hJ1h58CWwUQe3MxPuau'}, 'followers': {'href': None, 'total': 33936632}, 'genres': ['latin pop', 'reggaeton', 'reggaeton colombiano', 'trap latino', 'urbano latino'], 'href': 'https://api.spotify.com/v1/artists/1r4hJ1h58CWwUQe3MxPuau', 'id': '1r4hJ1h58CWwUQe3MxPuau', 'images': [{'height': 640, 'url': 'https://i.scdn.co/image/ab6761610000e5eb912d3ab996f98aa30d3a05d0', 'width': 640}, {'height': 320, 'url': 'https://i.scdn.co/image/ab67616100005174912d3ab996f98aa30d3a05d0', 'width': 320}, {'height': 160, 'url': 'https://i.scdn.co/image/ab6761610000f178912d3ab996f98aa30d3a05d0', 'width': 160}], 'name': 'Maluma', 'popularity': 84, 'type': 'artist', 'uri': 'spotify:artist:1r4hJ1h58CWwUQe3MxPuau'}], 'limit': 1, 'next': 'https://api.spotify.com/v1/search?query=Maluma&type=artist&offset=1&limit=1', 'offset': 0, 'previous': None, 'total': 821}}\n"
     ]
    }
   ],
   "source": [
    "client_id = \"489e275b8c0a4fe78c837086f353fa61\"\n",
    "client_secret = \"5df4bb102e2a41349cbf064fc9f4edd9\"\n",
    "# Obtener el token de acceso\n",
    "token = get_token(client_id, client_secret)\n",
    "# Ejemplo de búsqueda de información de un artista\n",
    "artist_name = \"Maluma\"\n",
    "result = search_for_artist(token, artist_name)\n",
    "print(result)"
   ]
  }
 ],
 "metadata": {
  "kernelspec": {
   "display_name": "cursoPython",
   "language": "python",
   "name": "python3"
  },
  "language_info": {
   "codemirror_mode": {
    "name": "ipython",
    "version": 3
   },
   "file_extension": ".py",
   "mimetype": "text/x-python",
   "name": "python",
   "nbconvert_exporter": "python",
   "pygments_lexer": "ipython3",
   "version": "3.9.18"
  }
 },
 "nbformat": 4,
 "nbformat_minor": 2
}
